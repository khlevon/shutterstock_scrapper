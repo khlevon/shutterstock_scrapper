{
 "cells": [
  {
   "cell_type": "code",
   "execution_count": 161,
   "metadata": {},
   "outputs": [],
   "source": [
    "from shutterstock_sdk import Configuration, ImagesApi, ApiClient\n",
    "from shutterstock_sdk.rest import ApiException\n",
    "import json\n",
    "import time\n",
    "from IPython import display as ipd"
   ]
  },
  {
   "cell_type": "code",
   "execution_count": 162,
   "metadata": {},
   "outputs": [],
   "source": [
    "configuration = Configuration()\n",
    "configuration.username = \"1qmbIRgfK93xL1q563qhY6xoDky2NWHr\"\n",
    "configuration.password = \"bmme2mH7RIpA9xxY\"\n",
    "\n",
    "api = ImagesApi(ApiClient(configuration))"
   ]
  },
  {
   "cell_type": "code",
   "execution_count": 169,
   "metadata": {},
   "outputs": [
    {
     "name": "stdout",
     "output_type": "stream",
     "text": [
      "Rate limit exceeded. Waiting for 2912437 milliseconds\n"
     ]
    }
   ],
   "source": [
    "keyword = \"disgust person portrait NOT:vector\"\n",
    "\n",
    "\n",
    "try:\n",
    "    while True:\n",
    "        response = api.search_images(\n",
    "                    view='full',\n",
    "                    language='en',\n",
    "                    per_page=25,\n",
    "                    page=9,\n",
    "                    query=keyword,\n",
    "                )\n",
    "except ApiException as e:\n",
    "    if e.status == 429:\n",
    "        body = json.loads(e.body)\n",
    "        current_time = int(time.time() * 1000)\n",
    "        reset_time = body.get(\"reset\", int((time.time() + 60 * 60) * 1000))\n",
    "        wait_milliseconds = (reset_time - current_time) + (60 * 1000) # add 60 seconds\n",
    "        time.sleep(wait_milliseconds * 1000)\n",
    "    else:\n",
    "        raise e\n",
    "\n",
    "    # print(dir(e))\n",
    "    # print(e.status)\n",
    "    # body = json.loads(e.body)\n",
    "    # print(\"body: \", body)\n",
    "    # reset_time = body.get(\"reset\", (time.time() + 60 * 60) // 1000) * 1000\n",
    "    # wait_seconds = (reset_time - time.time()) + 60\n",
    "    # print(\"wait_seconds: \", wait_seconds)\n",
    "    # print(body.get(\"reset\"))\n",
    "    # print(time.time())\n"
   ]
  },
  {
   "cell_type": "code",
   "execution_count": null,
   "metadata": {},
   "outputs": [],
   "source": []
  },
  {
   "cell_type": "code",
   "execution_count": 136,
   "metadata": {},
   "outputs": [
    {
     "data": {
      "image/jpeg": "[encoded data removed]",
      "text/plain": [
       "<IPython.core.display.Image object>"
      ]
     },
     "metadata": {},
     "output_type": "display_data"
    },
    {
     "data": {
      "text/plain": [
       "['studio',\n",
       " 'hands',\n",
       " 'desperate',\n",
       " 'caucasian',\n",
       " 'scream',\n",
       " 'teenage',\n",
       " 'anger',\n",
       " 'youth',\n",
       " 'expressive',\n",
       " 'white',\n",
       " 'casual',\n",
       " 'furious',\n",
       " 'excited',\n",
       " 'shouting',\n",
       " 'angry',\n",
       " 'feeling',\n",
       " 'screaming',\n",
       " 'yell',\n",
       " 'closeup',\n",
       " 'background',\n",
       " 'person',\n",
       " 'adolescent',\n",
       " 'male',\n",
       " 'child',\n",
       " 'handsome',\n",
       " 'caprice',\n",
       " 'young',\n",
       " 'isolated',\n",
       " 'guy',\n",
       " 'boy',\n",
       " 'disgusted',\n",
       " 'mad',\n",
       " 'annoyed',\n",
       " 'man',\n",
       " 'shout',\n",
       " 'human',\n",
       " 'teenager',\n",
       " 'loud',\n",
       " 'stress',\n",
       " 'expression',\n",
       " 'reaction',\n",
       " 'fury',\n",
       " 'outraged',\n",
       " 'portrait',\n",
       " 'teen',\n",
       " 'face',\n",
       " 'emotion',\n",
       " 'mouth',\n",
       " 'rage',\n",
       " 'open']"
      ]
     },
     "execution_count": 136,
     "metadata": {},
     "output_type": "execute_result"
    }
   ],
   "source": [
    "\n",
    "ipd.display(ipd.Image(response.data[0].assets.huge_thumb.url))\n",
    "response.data[0].keywords"
   ]
  }
 ],
 "metadata": {
  "interpreter": {
   "hash": "ced87919e2b79ed291427e3b59176967b23c61c3c016d37a08934fe6e45e6425"
  },
  "kernelspec": {
   "display_name": "Python 3.9.9 ('venv': venv)",
   "language": "python",
   "name": "python3"
  },
  "language_info": {
   "codemirror_mode": {
    "name": "ipython",
    "version": 3
   },
   "file_extension": ".py",
   "mimetype": "text/x-python",
   "name": "python",
   "nbconvert_exporter": "python",
   "pygments_lexer": "ipython3",
   "version": "3.9.9"
  },
  "orig_nbformat": 4
 },
 "nbformat": 4,
 "nbformat_minor": 2
}
